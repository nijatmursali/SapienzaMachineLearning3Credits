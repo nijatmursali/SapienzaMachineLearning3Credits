{
 "cells": [
  {
   "cell_type": "code",
   "execution_count": 1,
   "metadata": {
    "collapsed": true,
    "pycharm": {
     "is_executing": false
    }
   },
   "outputs": [],
   "source": [
    "# import gym\n",
    "# \n",
    "# env = gym.make(\"MountainCar-v0\")\n",
    "# env.reset()\n",
    "# \n",
    "# done = False\n",
    "# \n",
    "# i = 0\n",
    "# \n",
    "# while not done:\n",
    "#     i += 1\n",
    "#     \n",
    "#     if state[1] > 0:\n",
    "#         action = 2\n",
    "#     else:\n",
    "#         action = 0\n",
    "#     state, reward, done, _ = env.step(action)\n",
    "#     env.render()\n",
    "#     print(f\"Step {i}: State={state}, Reward = {reward}\")\n",
    "#     \n",
    "# env.close()"
   ]
  },
  {
   "cell_type": "code",
   "execution_count": 2,
   "outputs": [],
   "source": [
    "LEARNING_RATE = 0.1\n",
    "DISCOUNT = 0.95\n",
    "EPISODES = 10000\n",
    "SHOW_EVERY = 20\n",
    "buckets = 10\n",
    "\n",
    "DISCRETE_GRID_SIZE = [10, 10]\n",
    "START_EPSILON_DECAYING = 1\n",
    "END_EPSILON_DECAYING = EPISODES//2"
   ],
   "metadata": {
    "collapsed": false,
    "pycharm": {
     "name": "#%%\n",
     "is_executing": false
    }
   }
  },
  {
   "cell_type": "code",
   "execution_count": 3,
   "outputs": [],
   "source": [
    "import gym\n",
    "import numpy as np\n",
    "\n",
    "def calc_discrete_state(state):\n",
    "    discrete_state = (state - env.observation_space.low)/buckets\n",
    "    return tuple(discrete_state.astype(np.int))  \n",
    "\n",
    "def run_game(q_table, render, should_update):\n",
    "    done = False\n",
    "    discrete_state = calc_discrete_state(env.reset())\n",
    "    success = False\n",
    "    \n",
    "    while not done:\n",
    "        # Exploit or explore\n",
    "        if np.random.random() > np.finfo(float).eps:\n",
    "            # Exploit - use q-table to take current best action (and probably refine)\n",
    "            action = np.argmax(q_table[discrete_state])\n",
    "        else:\n",
    "            # Explore - t\n",
    "            action = np.random.randint(0, env.action_space.n)\n",
    "            \n",
    "        # Run simulation step\n",
    "        new_state, reward, done, _ = env.step(action)\n",
    "        \n",
    "        # \n",
    "        new_state_disc = calc_discrete_state(new_state)\n",
    "\n",
    "        # \n",
    "        if new_state[0] >= env.goal_position:\n",
    "            success = True\n",
    "          \n",
    "        # Update q-table\n",
    "        if should_update:\n",
    "            max_future_q = np.max(q_table[new_state_disc])\n",
    "            current_q = q_table[discrete_state + (action,)]\n",
    "            new_q = (1 - LEARNING_RATE) * current_q + LEARNING_RATE * (reward + DISCOUNT * max_future_q)\n",
    "            q_table[discrete_state + (action,)] = new_q\n",
    "\n",
    "        discrete_state = new_state_disc\n",
    "        \n",
    "        if render:\n",
    "            env.render()\n",
    "            \n",
    "    return success\n"
   ],
   "metadata": {
    "collapsed": false,
    "pycharm": {
     "name": "#%%\n",
     "is_executing": false
    }
   }
  },
  {
   "cell_type": "code",
   "execution_count": null,
   "outputs": [],
   "source": [
    "env = gym.make(\"MountainCar-v0\")\n",
    "\n",
    "epsilon = 1  \n",
    "epsilon_change = epsilon/(END_EPSILON_DECAYING - START_EPSILON_DECAYING)\n",
    "buckets = (env.observation_space.high - env.observation_space.low)/DISCRETE_GRID_SIZE\n",
    "q_table = np.random.uniform(low=-3, high=0, size=(DISCRETE_GRID_SIZE + [env.action_space.n]))\n",
    "success = False"
   ],
   "metadata": {
    "collapsed": false,
    "pycharm": {
     "name": "#%%\n",
     "is_executing": true
    }
   }
  },
  {
   "cell_type": "code",
   "execution_count": null,
   "outputs": [
    {
     "name": "stdout",
     "text": [
      "Current episode: 20, success: 0 (0.0)\n",
      "Current episode: 40, success: 0 (0.0)\n",
      "Current episode: 60, success: 0 (0.0)\n",
      "Current episode: 80, success: 0 (0.0)\n",
      "Current episode: 100, success: 0 (0.0)\n",
      "Current episode: 120, success: 0 (0.0)\n",
      "Current episode: 140, success: 0 (0.0)\n",
      "Current episode: 160, success: 0 (0.0)\n",
      "Current episode: 180, success: 4 (0.2)\n",
      "Current episode: 200, success: 0 (0.0)\n",
      "Current episode: 220, success: 5 (0.25)\n",
      "Current episode: 240, success: 0 (0.0)\n",
      "Current episode: 260, success: 9 (0.45)\n",
      "Current episode: 280, success: 1 (0.05)\n",
      "Current episode: 300, success: 7 (0.35)\n",
      "Current episode: 320, success: 0 (0.0)\n",
      "Current episode: 340, success: 4 (0.2)\n",
      "Current episode: 360, success: 6 (0.3)\n",
      "Current episode: 380, success: 0 (0.0)\n",
      "Current episode: 400, success: 3 (0.15)\n",
      "Current episode: 420, success: 2 (0.1)\n",
      "Current episode: 440, success: 0 (0.0)\n",
      "Current episode: 460, success: 4 (0.2)\n",
      "Current episode: 480, success: 11 (0.55)\n",
      "Current episode: 500, success: 18 (0.9)\n",
      "Current episode: 520, success: 18 (0.9)\n",
      "Current episode: 540, success: 13 (0.65)\n",
      "Current episode: 560, success: 20 (1.0)\n",
      "Current episode: 580, success: 16 (0.8)\n",
      "Current episode: 600, success: 15 (0.75)\n",
      "Current episode: 620, success: 12 (0.6)\n",
      "Current episode: 640, success: 19 (0.95)\n",
      "Current episode: 660, success: 7 (0.35)\n",
      "Current episode: 680, success: 16 (0.8)\n",
      "Current episode: 700, success: 19 (0.95)\n",
      "Current episode: 720, success: 2 (0.1)\n",
      "Current episode: 740, success: 11 (0.55)\n",
      "Current episode: 760, success: 20 (1.0)\n",
      "Current episode: 780, success: 19 (0.95)\n",
      "Current episode: 800, success: 1 (0.05)\n",
      "Current episode: 820, success: 3 (0.15)\n",
      "Current episode: 840, success: 13 (0.65)\n",
      "Current episode: 860, success: 9 (0.45)\n",
      "Current episode: 880, success: 0 (0.0)\n",
      "Current episode: 900, success: 16 (0.8)\n",
      "Current episode: 920, success: 20 (1.0)\n",
      "Current episode: 940, success: 19 (0.95)\n",
      "Current episode: 960, success: 17 (0.85)\n"
     ],
     "output_type": "stream"
    }
   ],
   "source": [
    "episode = 0\n",
    "success_count = 0\n",
    "\n",
    "while episode<EPISODES:\n",
    "    episode+=1\n",
    "    done = False\n",
    "\n",
    "    if episode % SHOW_EVERY == 0:\n",
    "        print(f\"Current episode: {episode}, success: {success_count} ({float(success_count)/SHOW_EVERY})\")\n",
    "        success = run_game(q_table, True, False)\n",
    "        success_count = 0\n",
    "    else:\n",
    "        success = run_game(q_table, False, True)\n",
    "        \n",
    "    if success:\n",
    "        success_count += 1\n",
    "\n",
    "    # Move epsilon towards its ending value, if it still needs to move\n",
    "    if END_EPSILON_DECAYING >= episode >= START_EPSILON_DECAYING:\n",
    "        epsilon -= epsilon_change\n",
    "\n",
    "print(success)\n"
   ],
   "metadata": {
    "collapsed": false,
    "pycharm": {
     "name": "#%%\n",
     "is_executing": true
    }
   }
  },
  {
   "cell_type": "code",
   "execution_count": null,
   "outputs": [],
   "source": [
    "run_game(q_table, True, False)\n"
   ],
   "metadata": {
    "collapsed": false,
    "pycharm": {
     "name": "#%%\n",
     "is_executing": true
    }
   }
  }
 ],
 "metadata": {
  "kernelspec": {
   "name": "python3",
   "language": "python",
   "display_name": "Python 3"
  },
  "language_info": {
   "codemirror_mode": {
    "name": "ipython",
    "version": 2
   },
   "file_extension": ".py",
   "mimetype": "text/x-python",
   "name": "python",
   "nbconvert_exporter": "python",
   "pygments_lexer": "ipython2",
   "version": "2.7.6"
  },
  "pycharm": {
   "stem_cell": {
    "cell_type": "raw",
    "source": [],
    "metadata": {
     "collapsed": false
    }
   }
  }
 },
 "nbformat": 4,
 "nbformat_minor": 0
}