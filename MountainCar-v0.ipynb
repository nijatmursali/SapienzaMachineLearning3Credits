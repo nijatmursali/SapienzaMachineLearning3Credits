{
 "cells": [
  {
   "cell_type": "code",
   "execution_count": 1,
   "metadata": {},
   "outputs": [
    {
     "name": "stderr",
     "output_type": "stream",
     "text": [
      "/home/nijatmursali/.local/lib/python3.5/site-packages/tensorflow/python/framework/dtypes.py:516: FutureWarning: Passing (type, 1) or '1type' as a synonym of type is deprecated; in a future version of numpy, it will be understood as (type, (1,)) / '(1,)type'.\n",
      "  _np_qint8 = np.dtype([(\"qint8\", np.int8, 1)])\n",
      "/home/nijatmursali/.local/lib/python3.5/site-packages/tensorflow/python/framework/dtypes.py:517: FutureWarning: Passing (type, 1) or '1type' as a synonym of type is deprecated; in a future version of numpy, it will be understood as (type, (1,)) / '(1,)type'.\n",
      "  _np_quint8 = np.dtype([(\"quint8\", np.uint8, 1)])\n",
      "/home/nijatmursali/.local/lib/python3.5/site-packages/tensorflow/python/framework/dtypes.py:518: FutureWarning: Passing (type, 1) or '1type' as a synonym of type is deprecated; in a future version of numpy, it will be understood as (type, (1,)) / '(1,)type'.\n",
      "  _np_qint16 = np.dtype([(\"qint16\", np.int16, 1)])\n",
      "/home/nijatmursali/.local/lib/python3.5/site-packages/tensorflow/python/framework/dtypes.py:519: FutureWarning: Passing (type, 1) or '1type' as a synonym of type is deprecated; in a future version of numpy, it will be understood as (type, (1,)) / '(1,)type'.\n",
      "  _np_quint16 = np.dtype([(\"quint16\", np.uint16, 1)])\n",
      "/home/nijatmursali/.local/lib/python3.5/site-packages/tensorflow/python/framework/dtypes.py:520: FutureWarning: Passing (type, 1) or '1type' as a synonym of type is deprecated; in a future version of numpy, it will be understood as (type, (1,)) / '(1,)type'.\n",
      "  _np_qint32 = np.dtype([(\"qint32\", np.int32, 1)])\n",
      "/home/nijatmursali/.local/lib/python3.5/site-packages/tensorflow/python/framework/dtypes.py:525: FutureWarning: Passing (type, 1) or '1type' as a synonym of type is deprecated; in a future version of numpy, it will be understood as (type, (1,)) / '(1,)type'.\n",
      "  np_resource = np.dtype([(\"resource\", np.ubyte, 1)])\n",
      "/home/nijatmursali/.local/lib/python3.5/site-packages/tensorboard/compat/tensorflow_stub/dtypes.py:541: FutureWarning: Passing (type, 1) or '1type' as a synonym of type is deprecated; in a future version of numpy, it will be understood as (type, (1,)) / '(1,)type'.\n",
      "  _np_qint8 = np.dtype([(\"qint8\", np.int8, 1)])\n",
      "/home/nijatmursali/.local/lib/python3.5/site-packages/tensorboard/compat/tensorflow_stub/dtypes.py:542: FutureWarning: Passing (type, 1) or '1type' as a synonym of type is deprecated; in a future version of numpy, it will be understood as (type, (1,)) / '(1,)type'.\n",
      "  _np_quint8 = np.dtype([(\"quint8\", np.uint8, 1)])\n",
      "/home/nijatmursali/.local/lib/python3.5/site-packages/tensorboard/compat/tensorflow_stub/dtypes.py:543: FutureWarning: Passing (type, 1) or '1type' as a synonym of type is deprecated; in a future version of numpy, it will be understood as (type, (1,)) / '(1,)type'.\n",
      "  _np_qint16 = np.dtype([(\"qint16\", np.int16, 1)])\n",
      "/home/nijatmursali/.local/lib/python3.5/site-packages/tensorboard/compat/tensorflow_stub/dtypes.py:544: FutureWarning: Passing (type, 1) or '1type' as a synonym of type is deprecated; in a future version of numpy, it will be understood as (type, (1,)) / '(1,)type'.\n",
      "  _np_quint16 = np.dtype([(\"quint16\", np.uint16, 1)])\n",
      "/home/nijatmursali/.local/lib/python3.5/site-packages/tensorboard/compat/tensorflow_stub/dtypes.py:545: FutureWarning: Passing (type, 1) or '1type' as a synonym of type is deprecated; in a future version of numpy, it will be understood as (type, (1,)) / '(1,)type'.\n",
      "  _np_qint32 = np.dtype([(\"qint32\", np.int32, 1)])\n",
      "/home/nijatmursali/.local/lib/python3.5/site-packages/tensorboard/compat/tensorflow_stub/dtypes.py:550: FutureWarning: Passing (type, 1) or '1type' as a synonym of type is deprecated; in a future version of numpy, it will be understood as (type, (1,)) / '(1,)type'.\n",
      "  np_resource = np.dtype([(\"resource\", np.ubyte, 1)])\n",
      "Using TensorFlow backend.\n"
     ]
    }
   ],
   "source": [
    "import gym\n",
    "import numpy as np\n",
    "import tensorflow as tf \n",
    "from keras.preprocessing.image import img_to_array\n",
    "from keras.layers import Dense,Conv2D,Flatten\n",
    "from keras.models import Sequential\n",
    "from keras.optimizers import RMSprop\n",
    "from collections import deque\n",
    "import matplotlib.pyplot as plt\n",
    "from keras.applications import imagenet_utils"
   ]
  },
  {
   "cell_type": "code",
   "execution_count": 2,
   "metadata": {
    "pycharm": {
     "is_executing": false,
     "name": "#%%\n"
    }
   },
   "outputs": [],
   "source": [
    "learningRate = 0.1 #learning_rate\n",
    "discountFactor = 0.95 #discount\n",
    "numberofEpisodes = 10000 #episodes\n",
    "howmanyepisodestoshow = 500 #show every\n",
    "numberofbuckets = 10 #buckets\n",
    "gridsize = [10, 10]\n",
    "decayingstartepsilon = 1\n",
    "decayingendepsilon = numberofEpisodes//2\n"
   ]
  },
  {
   "cell_type": "code",
   "execution_count": 3,
   "metadata": {
    "pycharm": {
     "is_executing": false,
     "name": "#%%\n"
    }
   },
   "outputs": [],
   "source": [
    "def valueforDiscreteState(state): \n",
    "    discrete_state = (state - env.observation_space.low)/numberofbuckets\n",
    "    return tuple(discrete_state.astype(np.int))  \n",
    "\n",
    "def startLearning(qValue, render, needtoUpdateWeights):\n",
    "    done = False\n",
    "    discrete_state = valueforDiscreteState(env.reset()) #puts the car in random location in the field\n",
    "    success = False\n",
    "\n",
    "    while not done:\n",
    "        \n",
    "        #if the random value is more than epsilon\n",
    "        if np.random.random() > np.finfo(float).eps: \n",
    "            #we need to use q-table to take current best action\n",
    "            action = np.argmax(qValue[discrete_state])\n",
    "        else:\n",
    "            # or we need to explore the environment\n",
    "            action = np.random.randint(0, env.action_space.n)\n",
    "\n",
    "        # Run simulation step\n",
    "        new_state, reward, done, _ = env.step(action)\n",
    "\n",
    "        discretevalueforNewState = valueforDiscreteState(new_state)\n",
    "\n",
    "\n",
    "        if new_state[0] >= env.goal_position:\n",
    "            success = True\n",
    "\n",
    "        #if we need to update, we update the Q value using numpy\n",
    "        if needtoUpdateWeights:\n",
    "            max_future_q = np.max(qValue[discretevalueforNewState])\n",
    "            current_q = qValue[discrete_state + (action,)]\n",
    "            newQValue = (1 - learningRate) * current_q + learningRate * (reward + discountFactor * max_future_q) #Q learning\n",
    "            qValue[discrete_state + (action,)] = newQValue\n",
    "\n",
    "        discrete_state = discretevalueforNewState\n",
    "\n",
    "        if render:\n",
    "            env.render()\n",
    "\n",
    "    return success\n",
    "\n"
   ]
  },
  {
   "cell_type": "code",
   "execution_count": 4,
   "metadata": {
    "pycharm": {
     "is_executing": false,
     "name": "#%%\n"
    }
   },
   "outputs": [],
   "source": [
    "env = gym.make(\"MountainCar-v0\")\n",
    "\n",
    "epsilon = 1  \n",
    "env_high = env.observation_space.high\n",
    "env_low = env.observation_space.low\n",
    "changeforepsilon = epsilon/(decayingendepsilon - decayingstartepsilon)\n",
    "numberofbuckets = (env_high - env_low)/gridsize\n",
    "qValue = np.random.uniform(low=-3, high=0, size=(gridsize + [env.action_space.n]))\n",
    "success = False\n",
    "\n",
    "env.close()\n"
   ]
  },
  {
   "cell_type": "code",
   "execution_count": 5,
   "metadata": {},
   "outputs": [],
   "source": [
    "def plottingValues(name):\n",
    "    gettingDatafromFile = open(\"MountainCar-v0.txt\",\"r\").read()\n",
    "    iterationAppend = []\n",
    "    rewardAppend = []\n",
    "    myData  =  gettingDatafromFile.split(\"\\n\")\n",
    "    for data in myData:\n",
    "        try:\n",
    "            valueSplitting  = data.split(\",\")\n",
    "            valuereward  =  valueSplitting[1]\n",
    "            valueiteration = valueSplitting[0]\n",
    "\n",
    "            \n",
    "            iterationAppend.append(float(valueiteration))\n",
    "            rewardAppend.append(float(valuereward))\n",
    "            \n",
    "            \n",
    "        except:\n",
    "            pass \n",
    "    \n",
    "    nameforImage=\"MountainCar-v0.png\"\n",
    "    \n",
    "    plt.plot(iterationAppend,rewardAppend)\n",
    "    plt.xlabel(\"Episodes\")\n",
    "    plt.ylabel(\"Reward\")\n",
    "    plt.title(\"Reward and Episode Diagram\")\n",
    "    plt.savefig(nameforImage, bbox_inches=\"tight\")\n",
    "    plt.close()"
   ]
  },
  {
   "cell_type": "code",
   "execution_count": 6,
   "metadata": {
    "pycharm": {
     "is_executing": false,
     "name": "#%%\n"
    }
   },
   "outputs": [
    {
     "name": "stdout",
     "output_type": "stream",
     "text": [
      "Current episode: 500, success: 30, (0.06)\n",
      "Current episode: 1000, success: 102, (0.204)\n",
      "Current episode: 1500, success: 199, (0.398)\n",
      "Current episode: 2000, success: 263, (0.526)\n",
      "Current episode: 2500, success: 327, (0.654)\n",
      "Current episode: 3000, success: 284, (0.568)\n",
      "Current episode: 3500, success: 370, (0.74)\n",
      "Current episode: 4000, success: 167, (0.334)\n",
      "Current episode: 4500, success: 178, (0.356)\n",
      "Current episode: 5000, success: 327, (0.654)\n",
      "Current episode: 5500, success: 287, (0.574)\n",
      "Current episode: 6000, success: 439, (0.878)\n",
      "Current episode: 6500, success: 490, (0.98)\n",
      "Current episode: 7000, success: 469, (0.938)\n",
      "Current episode: 7500, success: 500, (1.0)\n",
      "Current episode: 8000, success: 500, (1.0)\n",
      "Current episode: 8500, success: 475, (0.95)\n",
      "Current episode: 9000, success: 313, (0.626)\n",
      "Current episode: 9500, success: 352, (0.704)\n",
      "Current episode: 10000, success: 348, (0.696)\n"
     ]
    }
   ],
   "source": [
    "episode = 0\n",
    "numberofsuccesses = 0\n",
    "\n",
    "while episode<numberofEpisodes:\n",
    "    episode+=1\n",
    "    done = False\n",
    "\n",
    "    if episode % howmanyepisodestoshow == 0:\n",
    "        print(\"Current episode: {}, success: {}, ({})\".format(episode, numberofsuccesses, float(numberofsuccesses)/howmanyepisodestoshow))\n",
    "\n",
    "        success = startLearning(qValue, True, False)\n",
    "        numberofsuccesses = 0\n",
    "    else:\n",
    "        success = startLearning(qValue, False, True)\n",
    "\n",
    "    if success:\n",
    "        numberofsuccesses += 1\n",
    "\n",
    "    # Move epsilon towards its ending value, if it still needs to move\n",
    "    if decayingendepsilon >= episode >= decayingstartepsilon:\n",
    "        epsilon -= changeforepsilon\n",
    "        \n",
    "    if episode%10 == 0: \n",
    "        openTxtFile  = open(\"MountainCar-v0.txt\",'a')\n",
    "        openTxtFile.write(str(episode)+\",\"+str(numberofsuccesses))\n",
    "        openTxtFile.write(\"\\n\")\n",
    "        plottingValues(\"MountainCar-v0\")"
   ]
  },
  {
   "cell_type": "code",
   "execution_count": null,
   "metadata": {},
   "outputs": [],
   "source": []
  }
 ],
 "metadata": {
  "kernelspec": {
   "display_name": "Python 3",
   "language": "python",
   "name": "python3"
  },
  "language_info": {
   "codemirror_mode": {
    "name": "ipython",
    "version": 3
   },
   "file_extension": ".py",
   "mimetype": "text/x-python",
   "name": "python",
   "nbconvert_exporter": "python",
   "pygments_lexer": "ipython3",
   "version": "3.5.2"
  },
  "pycharm": {
   "stem_cell": {
    "cell_type": "raw",
    "metadata": {
     "collapsed": false
    },
    "source": []
   }
  }
 },
 "nbformat": 4,
 "nbformat_minor": 1
}
